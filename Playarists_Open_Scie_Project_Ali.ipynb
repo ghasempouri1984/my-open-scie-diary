{
  "nbformat": 4,
  "nbformat_minor": 0,
  "metadata": {
    "colab": {
      "provenance": [],
      "authorship_tag": "ABX9TyMGR3ufGD2Og/wzXCQ+0RC9",
      "include_colab_link": true
    },
    "kernelspec": {
      "name": "python3",
      "display_name": "Python 3"
    },
    "language_info": {
      "name": "python"
    },
    "accelerator": "GPU",
    "gpuClass": "standard"
  },
  "cells": [
    {
      "cell_type": "markdown",
      "metadata": {
        "id": "view-in-github",
        "colab_type": "text"
      },
      "source": [
        "<a href=\"https://colab.research.google.com/github/ghasempouri1984/my-open-scie-diary/blob/main/Playarists_Open_Scie_Project_Ali.ipynb\" target=\"_parent\"><img src=\"https://colab.research.google.com/assets/colab-badge.svg\" alt=\"Open In Colab\"/></a>"
      ]
    },
    {
      "cell_type": "markdown",
      "source": [
        "# 23-03-2023> Ok. it is going to be alot of fun. i need to review papers for having a meaningful abstract with high hopes to become an accepted paper leter. here i write my own diary by using my brain, google search engine, stackoverflow, and chatGPT for sure.\n",
        "\n",
        "**RQ1: What is the coverage of publications in Social Science and Humanities (SSH) journals (according to ERIH-PLUS) included in OpenCitations Meta? What are the disciplines that have more publications? What are countries providing the largest number of publications and journals? How many of the SSH journals are available in Open Access according to the data in DOAJ?**\n",
        "\n",
        "To address this research question, we will need to work with multiple data sources: ERIH-PLUS, OpenCitations Meta, and DOAJ. we'll need to write Python code to fetch, process, and analyze the data. Here's a high-level outline of the steps we should follow:\n",
        "\n",
        "- Fetch the list of Social Science and Humanities (SSH) journals from ERIH-PLUS.\n",
        "- Fetch publications from OpenCitations Meta.\n",
        "- Filter publications from SSH journals.\n",
        "- Analyze the coverage of publications in SSH journals.\n",
        "- Identify the disciplines with the most publications.\n",
        "- Identify the countries providing the largest number of publications and journals.\n",
        "- Fetch the list of Open Access journals from DOAJ.\n",
        "- Compare the list of SSH journals with the list of Open Access journals.\n",
        "\n"
      ],
      "metadata": {
        "id": "NCdiQcWVbejg"
      }
    },
    {
      "cell_type": "markdown",
      "source": [
        "# Here's a raw template based on keywords in RQ1, to start thinking:"
      ],
      "metadata": {
        "id": "nMx8med7cDBb"
      }
    },
    {
      "cell_type": "code",
      "execution_count": null,
      "metadata": {
        "id": "qrylP8ONbZLu"
      },
      "outputs": [],
      "source": [
        "import requests\n",
        "import json\n",
        "import pandas as pd\n",
        "from collections import Counter\n",
        "\n",
        "# 1. Fetch the list of SSH journals from ERIH-PLUS\n",
        "# (Replace the API URL and parameters according to the ERIH-PLUS API documentation)\n",
        "erih_plus_api_url = \"examplehttps://erihplusapi.example.com/journals\"\n",
        "erih_plus_response = requests.get(erih_plus_api_url)\n",
        "erih_plus_data = erih_plus_response.json()\n",
        "erih_plus_journals = {j[\"id\"]: j for j in erih_plus_data[\"journals\"]}\n",
        "\n",
        "# 2. Fetch publications from OpenCitations Meta\n",
        "# (Replace the API URL and parameters according to the OpenCitations Meta API documentation)\n",
        "open_citations_api_url = \"examplehttps://opencitationsmeta.example.com/publications\"\n",
        "open_citations_response = requests.get(open_citations_api_url)\n",
        "open_citations_data = open_citations_response.json()\n",
        "publications = open_citations_data[\"publications\"]\n",
        "\n",
        "# 3. Filter publications from SSH journals\n",
        "ssh_publications = [pub for pub in publications if pub[\"journal_id\"] in erih_plus_journals]\n",
        "\n",
        "# 4. Analyze the coverage of publications in SSH journals\n",
        "coverage = len(ssh_publications) / len(publications)\n",
        "\n",
        "# 5. Identify the disciplines with the most publications\n",
        "disciplines = [erih_plus_journals[pub[\"journal_id\"]][\"discipline\"] for pub in ssh_publications]\n",
        "discipline_counts = Counter(disciplines).most_common()\n",
        "\n",
        "# 6. Identify the countries providing the largest number of publications and journals\n",
        "countries = [erih_plus_journals[pub[\"journal_id\"]][\"country\"] for pub in ssh_publications]\n",
        "country_counts_publications = Counter(countries).most_common()\n",
        "\n",
        "journal_countries = [journal[\"country\"] for journal in erih_plus_journals.values()]\n",
        "country_counts_journals = Counter(journal_countries).most_common()\n",
        "\n",
        "# 7. Fetch the list of Open Access journals from DOAJ\n",
        "# (Replace the API URL and parameters according to the DOAJ API documentation)\n",
        "doaj_api_url = \"https://doajapi.example.com/journals\"\n",
        "doaj_response = requests.get(doaj_api_url)\n",
        "doaj_data = doaj_response.json()\n",
        "doaj_journals = {j[\"id\"]: j for j in doaj_data[\"journals\"]}\n",
        "\n",
        "# 8. Compare the list of SSH journals with the list of Open Access journals\n",
        "ssh_open_access_journals = [journal for journal in erih_plus_journals.values() if journal[\"id\"] in doaj_journals]\n",
        "\n",
        "# Print results\n",
        "print(f\"Coverage of publications in SSH journals: {coverage * 100:.2f}%\")\n",
        "print(f\"Top disciplines with most publications: {discipline_counts}\")\n",
        "print(f\"Countries providing the largest number of publications: {country_counts_publications}\")\n",
        "print(f\"Countries providing the largest number of journals: {country_counts_journals}\")\n",
        "print(f\"Number of SSH journals available in Open Access: {len(ssh_open_access_journals)}\")\n",
        "\n",
        "# Optional: Save the results in a JSON or CSV file\n",
        "results = {\n",
        "    \"coverage\": coverage,\n",
        "    \"top_disciplines\": discipline_counts,\n",
        "    \"top_countries_publications\": country_counts_publications,\n",
        "    \"top_countries_journals\": country_counts_journals,\n",
        "    \"open_access_ssh_journals\": len(ssh_open_access_journals),\n",
        "}\n",
        "\n",
        "with open(\"results.json\", \"w\") as f:\n",
        "    json.dump(results, f)\n",
        "\n"
      ]
    },
    {
      "cell_type": "code",
      "source": [],
      "metadata": {
        "id": "iUMCrM-tcIk8"
      },
      "execution_count": null,
      "outputs": []
    }
  ]
}